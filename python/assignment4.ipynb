{
 "cells": [
  {
   "cell_type": "markdown",
   "id": "4bc375f3",
   "metadata": {},
   "source": [
    "#### Task 1 rectangle class "
   ]
  },
  {
   "cell_type": "markdown",
   "id": "553f0474",
   "metadata": {},
   "source": [
    "1. Write a Rectangle class in Python language, allowing you to build a rectangle\n",
    "with length and width attributes.\n",
    "2. Create a Perimeter() method to calculate the perimeter of the rectangle and a Area() method to\n",
    "calculate the area of the rectangle.\n",
    "3. Create a method display() that display the length, width, perimeter and area of an object created\n",
    "using an instantiation on rectangle class.\n",
    "4. Create a Parallelepipede child class inheriting from the Rectangle class and with\n",
    "a height attribute and another Volume() method to calculate the volume of the Parallelepiped."
   ]
  },
  {
   "cell_type": "code",
   "execution_count": 33,
   "id": "aff889a8",
   "metadata": {},
   "outputs": [],
   "source": [
    "class Rectangle:\n",
    "    def __init__(self, length, width):\n",
    "        self.length = length\n",
    "        self.width = width\n",
    "        \n",
    "    def Perimeter(self):\n",
    "        return 2*(self.length+self.width)\n",
    "    \n",
    "    def Area(self):\n",
    "        return (self.length*self.width)\n",
    "    \n",
    "    def display(self):\n",
    "        print(f\"Length: {self.length}\")\n",
    "        print(f\"Width: {self.width}\")\n",
    "        print(f\"Perimeter: {self.Perimeter()}\")\n",
    "        print(f\"Area: {self.Area()}\")\n"
   ]
  },
  {
   "cell_type": "code",
   "execution_count": 34,
   "id": "bb7dd1cc",
   "metadata": {},
   "outputs": [],
   "source": [
    "class Parallelepipede(rectangle):\n",
    "    def __init__(self, length, width, height):\n",
    "        super().__init__(length, width)\n",
    "        self.height = height\n",
    "        \n",
    "    def volume(self):\n",
    "        return self.length * self.width * self.height\n",
    "    \n",
    "    def display1(self):\n",
    "        #super().display()\n",
    "        print(f\"Height: {self.height}\")\n",
    "        print(f\"Volume: {self.volume()}\")\n"
   ]
  },
  {
   "cell_type": "code",
   "execution_count": 35,
   "id": "db9fd705",
   "metadata": {},
   "outputs": [
    {
     "name": "stdout",
     "output_type": "stream",
     "text": [
      "Length: 5\n",
      "Width: 10\n",
      "Perimeter: 30\n",
      "Area: 50\n",
      "\n",
      "\n"
     ]
    }
   ],
   "source": [
    "rectangle1 = Rectangle(5, 10)\n",
    "rectangle1.display()\n",
    "\n",
    "print(\"\\n\")\n",
    "\n"
   ]
  },
  {
   "cell_type": "code",
   "execution_count": 36,
   "id": "ef75c605",
   "metadata": {},
   "outputs": [
    {
     "name": "stdout",
     "output_type": "stream",
     "text": [
      "Volume: 60\n"
     ]
    }
   ],
   "source": [
    "parallelepiped1 = Parallelepipede(3, 4, 5)\n",
    "#parallelepiped1.display()\n",
    "print(f\"Volume: {parallelepiped1.volume()}\")"
   ]
  },
  {
   "cell_type": "markdown",
   "id": "f583b45a",
   "metadata": {},
   "source": [
    "### Task 2: Person class and child Student class "
   ]
  },
  {
   "cell_type": "markdown",
   "id": "fa68a2f0",
   "metadata": {},
   "source": [
    "Create a Python class Person with attributes: name and age of type string.\n",
    "1. Create a display() method that displays the name and age of an object created via the Person\n",
    "class.\n",
    "2. Create a child class Student which inherits from the Person class and which also has\n",
    "a section attribute.\n",
    "3. Create a method displayStudent() that displays the name, age and section of an object created\n",
    "via the Student class.\n",
    "4. Create a student object via an instantiation on the Student class and then test the\n",
    "displayStudent method.\n"
   ]
  },
  {
   "cell_type": "code",
   "execution_count": 37,
   "id": "191d1a08",
   "metadata": {},
   "outputs": [],
   "source": [
    "class Person:\n",
    "    def __init__(self, name, age):\n",
    "        self.name = name\n",
    "        self.age = age\n",
    "\n",
    "    def display(self):\n",
    "        print(f\"Name: {self.name}\")\n",
    "        print(f\"Age: {self.age}\")\n",
    "\n",
    "\n"
   ]
  },
  {
   "cell_type": "code",
   "execution_count": 38,
   "id": "a1923899",
   "metadata": {},
   "outputs": [],
   "source": [
    "\n",
    "class Student(Person):\n",
    "    def __init__(self, name, age, section):\n",
    "        super().__init__(name, age)\n",
    "        self.section = section\n",
    "\n",
    "    def display_student(self):\n",
    "        super().display()\n",
    "        print(f\"Section: {self.section}\")\n",
    "\n"
   ]
  },
  {
   "cell_type": "code",
   "execution_count": 39,
   "id": "121ba731",
   "metadata": {},
   "outputs": [
    {
     "name": "stdout",
     "output_type": "stream",
     "text": [
      "Name: Alice\n",
      "Age: 20\n",
      "Section: A\n"
     ]
    }
   ],
   "source": [
    "\n",
    "student1 = Student(\"Alice\", 20, \"A\")\n",
    "student1.display_student()\n"
   ]
  },
  {
   "cell_type": "markdown",
   "id": "db7d3570",
   "metadata": {},
   "source": [
    "### Task 3. Computation class "
   ]
  },
  {
   "cell_type": "markdown",
   "id": "216e80fd",
   "metadata": {},
   "source": [
    "Create a Coputation class with a default constructor (without parameters) allowing to perform\n",
    "various calculations on integers numbers.\n",
    "\n",
    "2. Create a method called Factorial() which allows to calculate the factorial of an integer. Test the\n",
    "method by instantiating the class.\n",
    "\n",
    "3. Create a method called Sum() allowing to calculate the sum of the first n integers 1 + 2 + 3 + .. +\n",
    "n. Test this method.\n",
    "\n",
    "4. Create a method called testPrim() in the Calculation class to test the primality of a given\n",
    "integer. Test this method.\n",
    "\n",
    "5. Create a method called testPrims() allowing to test if two numbers are prime between them.\n",
    "\n",
    "6. Create a tableMult() method which creates and displays the multiplication table of a given\n",
    "integer. Then create an allTablesMult() method to display all the integer multiplication tables 1,\n",
    "2, 3, ..., 9.\n",
    "\n",
    "7. Create a static listDiv() method that gets all the divisors of a given integer on new list\n",
    "called Ldiv. Create another listDivPrim() method that gets all the prime divisors of a given\n",
    "integer."
   ]
  },
  {
   "cell_type": "code",
   "execution_count": 37,
   "id": "5d31ef56",
   "metadata": {},
   "outputs": [],
   "source": [
    "class Computation:\n",
    "    def Factorial(self, n):\n",
    "        if n==1:\n",
    "            return 1\n",
    "        else:\n",
    "            return n*self.Factorial( n-1)\n",
    "    \n",
    "    def Sum(self, n):\n",
    "        return n*(n+1)//2\n",
    "    \n",
    "    def testPrim(self, n):\n",
    "        if n<=1:\n",
    "            return False\n",
    "       \n",
    "        for i in range(2, int(n**.5)+1):\n",
    "            if n % i == 0:\n",
    "                return False\n",
    "\n",
    "        return True\n",
    "    \n",
    "    def testPrims(self, n1, n2):\n",
    "        for n in range(n1, n2+1):\n",
    "            if self.testPrim(n):\n",
    "                print(f'Number {n} is prime')\n",
    "                \n",
    "    \n",
    "\n",
    "    def tableMult(self, n):\n",
    "        for i in range(1, 11):\n",
    "            print(f'{n} X {i} = {n*i}')\n",
    "            \n",
    "    @staticmethod\n",
    "    def listDiv(n):\n",
    "        Ldiv=[]\n",
    "        for i in range(1, n+1):\n",
    "            if n%i ==0:\n",
    "                Ldiv.append(i)\n",
    "        return Ldiv\n",
    "    @staticmethod\n",
    "    def listDivPrim(n):\n",
    "        divisors = Computation().listDiv(n)\n",
    "        prime_divisors = [  div for div in divisors if Computation().testPrim(div) ]\n",
    "        return prime_divisors"
   ]
  },
  {
   "cell_type": "code",
   "execution_count": 36,
   "id": "312950dc",
   "metadata": {},
   "outputs": [
    {
     "name": "stdout",
     "output_type": "stream",
     "text": [
      "Factorial of 5: 120\n",
      "Sum of first 5 integers: 15\n",
      "Is 7 prime? True\n",
      "Number 2 is prime\n",
      "Number 3 is prime\n",
      "Number 5 is prime\n",
      "Number 7 is prime\n",
      "7 X 1 = 7\n",
      "7 X 2 = 14\n",
      "7 X 3 = 21\n",
      "7 X 4 = 28\n",
      "7 X 5 = 35\n",
      "7 X 6 = 42\n",
      "7 X 7 = 49\n",
      "7 X 8 = 56\n",
      "7 X 9 = 63\n",
      "7 X 10 = 70\n",
      "Divisors of 12: [1, 2, 3, 4, 6, 12]\n",
      "Prime divisors of 24: [2, 3]\n"
     ]
    }
   ],
   "source": [
    "comp = Computation()\n",
    "\n",
    "# Test factorial method\n",
    "print(f\"Factorial of 5: {comp.Factorial(5)}\")\n",
    "\n",
    "# Test sum_first_n method\n",
    "print(f\"Sum of first 5 integers: {comp.Sum(5)}\")\n",
    "\n",
    "# Test test_prim method\n",
    "print(f\"Is 7 prime? {comp.testPrim(7)}\")\n",
    "\n",
    "# Test test_prims method\n",
    "comp.testPrims(1, 10)\n",
    "\n",
    "# Test table_mult method\n",
    "comp.tableMult(7)\n",
    "\n",
    "# Test list_div method\n",
    "print(f\"Divisors of 12: {comp.listDiv(12)}\")\n",
    "\n",
    "# Test list_div_prim method\n",
    "print(f\"Prime divisors of 24: {comp.listDivPrim(24)}\")"
   ]
  },
  {
   "cell_type": "markdown",
   "id": "790845ea",
   "metadata": {},
   "source": [
    "### Task 4.\n",
    "#### 1. Given two strings, write a program that efficiently finds the longest common subsequence."
   ]
  },
  {
   "cell_type": "code",
   "execution_count": 38,
   "id": "09be2d03",
   "metadata": {},
   "outputs": [
    {
     "name": "stdout",
     "output_type": "stream",
     "text": [
      "Longest Common Subsequence: 3\n"
     ]
    }
   ],
   "source": [
    "def longest_common_subsequence(str1, str2, m,n):\n",
    "    if m == 0 or n == 0:\n",
    "        return 0\n",
    "    if str1[m-1] == str2[n-2]:\n",
    "        return 1+ longest_common_subsequence(str1, str2, m-1,n-1)\n",
    "    else:\n",
    "        return max(longest_common_subsequence(str1, str2, m-1,n), \n",
    "                  longest_common_subsequence(str1, str2, m,n-1))\n",
    "        \n",
    "    \n",
    "\n",
    "\n",
    "\n",
    "\n",
    "\n",
    "\n",
    "str1 = \"ABCDGH\"\n",
    "str2 = \"AEDFHR\"\n",
    "m = len(str1)\n",
    "n = len(str2)\n",
    "result = longest_common_subsequence(str1, str2, m, n)\n",
    "print(f\"Longest Common Subsequence: {result}\")"
   ]
  },
  {
   "cell_type": "code",
   "execution_count": null,
   "id": "47657e35",
   "metadata": {},
   "outputs": [],
   "source": []
  }
 ],
 "metadata": {
  "kernelspec": {
   "display_name": "Python 3 (ipykernel)",
   "language": "python",
   "name": "python3"
  },
  "language_info": {
   "codemirror_mode": {
    "name": "ipython",
    "version": 3
   },
   "file_extension": ".py",
   "mimetype": "text/x-python",
   "name": "python",
   "nbconvert_exporter": "python",
   "pygments_lexer": "ipython3",
   "version": "3.11.5"
  }
 },
 "nbformat": 4,
 "nbformat_minor": 5
}
