{
 "cells": [
  {
   "cell_type": "markdown",
   "id": "8886b56e",
   "metadata": {},
   "source": [
    "### Implement Fibonacci series using recursion.\n"
   ]
  },
  {
   "cell_type": "code",
   "execution_count": 1,
   "id": "c3fd5d10",
   "metadata": {},
   "outputs": [
    {
     "name": "stdout",
     "output_type": "stream",
     "text": [
      "Enter the number of terms for Fibonacci series: 5\n",
      "Fibonacci series using recursion:\n",
      "0 1 1 2 3 "
     ]
    }
   ],
   "source": [
    "def fibonacci_recursive(n):\n",
    "    if n <= 0:\n",
    "        print(\"Invalid input! Please provide a positive integer.\")\n",
    "        return None\n",
    "    elif n == 1:\n",
    "        return 0 \n",
    "    elif n == 2:\n",
    "        return 1  \n",
    "    else:\n",
    "        return fibonacci_recursive(n - 1) + fibonacci_recursive(n - 2)\n",
    "\n",
    "\n",
    "num_terms = int(input(\"Enter the number of terms for Fibonacci series: \"))\n",
    "\n",
    "if num_terms <= 0:\n",
    "    print(\"Invalid input! Number of terms should be a positive integer.\")\n",
    "else:\n",
    "    print(\"Fibonacci series using recursion:\")\n",
    "    for i in range(1, num_terms + 1):\n",
    "        print(fibonacci_recursive(i), end=\" \")\n"
   ]
  },
  {
   "cell_type": "markdown",
   "id": "2bcd9136",
   "metadata": {},
   "source": [
    "### Write a Python program to find all the unique words and count the frequency of occurrence from a given list of strings."
   ]
  },
  {
   "cell_type": "code",
   "execution_count": 2,
   "id": "a209f0c6",
   "metadata": {},
   "outputs": [
    {
     "name": "stdout",
     "output_type": "stream",
     "text": [
      "Unique words and their frequencies:\n",
      "Hello: 2\n",
      "world: 2\n",
      "Python: 3\n",
      "programming: 1\n",
      "is: 1\n",
      "fun: 1\n",
      "hello: 1\n",
      "again: 1\n"
     ]
    }
   ],
   "source": [
    "input_strings = [\n",
    "    \"Hello world!\",\n",
    "    \"Python programming is fun.\",\n",
    "    \"Hello Python!\",\n",
    "    \"Python world, hello again!\"\n",
    "]\n",
    "freq = {}\n",
    "for elem in input_strings:\n",
    "    words = elem.split()\n",
    "    for word in words :\n",
    "        word = word.strip('.,!?;:\"')\n",
    "        if word in freq:\n",
    "            freq[word] += 1\n",
    "        else :\n",
    "            freq[word] = 1\n",
    "print(\"Unique words and their frequencies:\")\n",
    "for word, frq in freq.items():\n",
    "    print(f\"{word}: {frq}\")\n",
    "            "
   ]
  },
  {
   "cell_type": "markdown",
   "id": "13dcb40e",
   "metadata": {},
   "source": [
    "### Write a Python program that finds all pairs of elements in a list whose sum is equal to a given value."
   ]
  },
  {
   "cell_type": "code",
   "execution_count": 3,
   "id": "9449f3a8",
   "metadata": {},
   "outputs": [
    {
     "name": "stdout",
     "output_type": "stream",
     "text": [
      "Pairs with sum 7:\n",
      "(2, 5)\n",
      "(4, 3)\n",
      "(3, 4)\n",
      "(-2, 9)\n"
     ]
    }
   ],
   "source": [
    "my_list = [2, 4, 3, 5, 6, -2, 4, 7, 8, 9]\n",
    "target_sum = 7\n",
    "pairs = []\n",
    "n = len(my_list)\n",
    "for i in range(n):\n",
    "    for j in range(i+1, n):\n",
    "        if my_list[i]+my_list[j] == target_sum:\n",
    "            pairs.append((my_list[i],my_list[j]))\n",
    "if pairs:\n",
    "    print(f\"Pairs with sum {target_sum}:\")\n",
    "    for pair in pairs:\n",
    "        print(pair)\n",
    "else:\n",
    "    print(\"No pairs found with the given sum.\")"
   ]
  },
  {
   "cell_type": "markdown",
   "id": "90a65565",
   "metadata": {},
   "source": [
    "### Write a Python program to find the two numbers whose product is maximum among all the pairs in a given list of numbers"
   ]
  },
  {
   "cell_type": "code",
   "execution_count": 10,
   "id": "e00b4ad3",
   "metadata": {},
   "outputs": [
    {
     "name": "stdout",
     "output_type": "stream",
     "text": [
      "The two numbers with maximum product are: (8, 10) with product 80\n"
     ]
    }
   ],
   "source": [
    "nums = [2, 4, 6, 8, 10]\n",
    "pair = ()\n",
    "max_product = float('-inf') \n",
    "n = len(nums)\n",
    "for i in range(n):\n",
    "    for j in range(i+1, n):\n",
    "        prod = nums[i]*nums[j]\n",
    "        if prod > max_product:\n",
    "            max_product = prod\n",
    "            pair =(nums[i],nums[j])\n",
    "            \n",
    "if result_pair:\n",
    "    print(f\"The two numbers with maximum product are: {pair} with product {max_product}\")\n",
    "else:\n",
    "    print(\"No pair found.\")"
   ]
  },
  {
   "cell_type": "markdown",
   "id": "7429415b",
   "metadata": {},
   "source": [
    "### Write a Python function that takes a number as a parameter and checks whether the number is prime or not.\n",
    "\n"
   ]
  },
  {
   "cell_type": "code",
   "execution_count": 11,
   "id": "92a731ee",
   "metadata": {},
   "outputs": [
    {
     "name": "stdout",
     "output_type": "stream",
     "text": [
      "Enter a number to check if it is prime: 5\n",
      "5 is a prime number.\n"
     ]
    }
   ],
   "source": [
    "def is_prime(number):\n",
    "    if number <= 1:\n",
    "        return False \n",
    "    \n",
    "    for i in range(2, int(number**0.5) + 1):\n",
    "        if number % i == 0:\n",
    "            return False \n",
    "    return True  \n",
    "\n",
    "\n",
    "num = int(input(\"Enter a number to check if it is prime: \"))\n",
    "\n",
    "if is_prime(num):\n",
    "    print(f\"{num} is a prime number.\")\n",
    "else:\n",
    "    print(f\"{num} is not a prime number.\")\n"
   ]
  },
  {
   "cell_type": "markdown",
   "id": "68a205eb",
   "metadata": {},
   "source": [
    " ### Write a Python function to print the even numbers from a given list."
   ]
  },
  {
   "cell_type": "code",
   "execution_count": 12,
   "id": "d2a8dceb",
   "metadata": {},
   "outputs": [
    {
     "name": "stdout",
     "output_type": "stream",
     "text": [
      "The Even numbers:  [2, 4, 6, 8, 10]\n"
     ]
    }
   ],
   "source": [
    "def get_even(lis):\n",
    "    res = []\n",
    "    for elem in lis:\n",
    "        if elem%2 == 0:\n",
    "            res.append(elem)\n",
    "    return res\n",
    "my_list = [1, 2, 3, 4, 5, 6, 7, 8, 9, 10]\n",
    "even_numbers = get_even(my_list)\n",
    "print ('The Even numbers: ', even_numbers)"
   ]
  },
  {
   "cell_type": "markdown",
   "id": "dad42e15",
   "metadata": {},
   "source": [
    "### Write a function that will take a given string and reverse the order of words."
   ]
  },
  {
   "cell_type": "code",
   "execution_count": 13,
   "id": "22ae8087",
   "metadata": {},
   "outputs": [
    {
     "name": "stdout",
     "output_type": "stream",
     "text": [
      "Original string: Hello world\n",
      "Reversed string: world Hello\n"
     ]
    }
   ],
   "source": [
    "def reverse_words_order(input_str):\n",
    "\n",
    "    words_list = input_str.split()\n",
    "    reversed_words = words_list[::-1]\n",
    "    reversed_str = ' '.join(reversed_words)\n",
    "    return reversed_str\n",
    "\n",
    "input_string = \"Hello world\"\n",
    "reversed_string = reverse_words_order(input_string)\n",
    "print(\"Original string:\", input_string)\n",
    "print(\"Reversed string:\", reversed_string)\n"
   ]
  },
  {
   "cell_type": "markdown",
   "id": "cde94f59",
   "metadata": {},
   "source": [
    "# Given an integer x, return true if x is a palindrome, and false otherwise."
   ]
  },
  {
   "cell_type": "code",
   "execution_count": 14,
   "id": "92747278",
   "metadata": {},
   "outputs": [
    {
     "name": "stdout",
     "output_type": "stream",
     "text": [
      "Is 121 a palindrome? True\n",
      "Is -121 a palindrome? False\n",
      "Is 10 a palindrome? False\n"
     ]
    }
   ],
   "source": [
    "def is_palindrome(x):\n",
    "    str_x = str(x)\n",
    "    return str_x == str_x[::-1]\n",
    "\n",
    "# Example usage\n",
    "num1 = 121\n",
    "print(f\"Is {num1} a palindrome? {is_palindrome(num1)}\")\n",
    "\n",
    "num2 = -121\n",
    "print(f\"Is {num2} a palindrome? {is_palindrome(num2)}\")\n",
    "\n",
    "num3 = 10\n",
    "print(f\"Is {num3} a palindrome? {is_palindrome(num3)}\")\n"
   ]
  },
  {
   "cell_type": "markdown",
   "id": "f45d2469",
   "metadata": {},
   "source": [
    "### Write a Python function that checks whether a passed string is a palindrome or not."
   ]
  },
  {
   "cell_type": "code",
   "execution_count": 15,
   "id": "6eaac2ff",
   "metadata": {},
   "outputs": [
    {
     "name": "stdout",
     "output_type": "stream",
     "text": [
      "Is 'radar' a palindrome? True\n",
      "Is 'Hello World' a palindrome? False\n"
     ]
    }
   ],
   "source": [
    "def is_palindrome(input_str):\n",
    "    processed_str = input_str.replace(\" \", \"\").lower()\n",
    "    return processed_str == processed_str[::-1]\n",
    "\n",
    "\n",
    "test_str1 = \"radar\"\n",
    "print(f\"Is '{test_str1}' a palindrome? {is_palindrome(test_str1)}\")\n",
    "\n",
    "test_str2 = \"Hello World\"\n",
    "print(f\"Is '{test_str2}' a palindrome? {is_palindrome(test_str2)}\")\n"
   ]
  },
  {
   "cell_type": "markdown",
   "id": "3893e9b6",
   "metadata": {},
   "source": [
    "### Write a Python function to create and print a list where the values are the squares of numbers between 1 and 30 (both included).\n"
   ]
  },
  {
   "cell_type": "code",
   "execution_count": 16,
   "id": "2df237c8",
   "metadata": {},
   "outputs": [
    {
     "name": "stdout",
     "output_type": "stream",
     "text": [
      "List of squares of numbers from 1 to 30:\n",
      "[1, 4, 9, 16, 25, 36, 49, 64, 81, 100, 121, 144, 169, 196, 225, 256, 289, 324, 361, 400, 441, 484, 529, 576, 625, 676, 729, 784, 841, 900]\n"
     ]
    }
   ],
   "source": [
    "def generate_squares_list():\n",
    "    squares_list = [num**2 for num in range(1, 31)]\n",
    "    return squares_list\n",
    "\n",
    "\n",
    "squares_result = generate_squares_list()\n",
    "print(\"List of squares of numbers from 1 to 30:\")\n",
    "print(squares_result)\n"
   ]
  },
  {
   "cell_type": "markdown",
   "id": "9eeb788d",
   "metadata": {},
   "source": [
    "### Write a Python function to generate all permutations of a list."
   ]
  },
  {
   "cell_type": "code",
   "execution_count": 17,
   "id": "f0f84730",
   "metadata": {},
   "outputs": [
    {
     "name": "stdout",
     "output_type": "stream",
     "text": [
      "All permutations of the list:\n",
      "(1, 2, 3)\n",
      "(1, 3, 2)\n",
      "(2, 1, 3)\n",
      "(2, 3, 1)\n",
      "(3, 1, 2)\n",
      "(3, 2, 1)\n"
     ]
    }
   ],
   "source": [
    "from itertools import permutations\n",
    "\n",
    "def generate_permutations(input_list):\n",
    "    perm_list = list(permutations(input_list))\n",
    "    return perm_list\n",
    "\n",
    "\n",
    "my_list = [1, 2, 3]\n",
    "permutations_result = generate_permutations(my_list)\n",
    "\n",
    "print(\"All permutations of the list:\")\n",
    "for perm in permutations_result:\n",
    "    print(perm)\n"
   ]
  },
  {
   "cell_type": "markdown",
   "id": "35b04adb",
   "metadata": {},
   "source": [
    "### Write a Python program to access a function inside a function"
   ]
  },
  {
   "cell_type": "code",
   "execution_count": 19,
   "id": "9498d76f",
   "metadata": {},
   "outputs": [
    {
     "name": "stdout",
     "output_type": "stream",
     "text": [
      "This is the outer function\n",
      "This is the inner function\n"
     ]
    }
   ],
   "source": [
    "def outer_function():\n",
    "    print(\"This is the outer function\")\n",
    "\n",
    "    def inner_function():\n",
    "        print(\"This is the inner function\")\n",
    "\n",
    "    inner_function()\n",
    "\n",
    "# Call the outer function to execute the code\n",
    "outer_function()\n"
   ]
  }
 ],
 "metadata": {
  "kernelspec": {
   "display_name": "Python 3 (ipykernel)",
   "language": "python",
   "name": "python3"
  },
  "language_info": {
   "codemirror_mode": {
    "name": "ipython",
    "version": 3
   },
   "file_extension": ".py",
   "mimetype": "text/x-python",
   "name": "python",
   "nbconvert_exporter": "python",
   "pygments_lexer": "ipython3",
   "version": "3.11.5"
  }
 },
 "nbformat": 4,
 "nbformat_minor": 5
}
