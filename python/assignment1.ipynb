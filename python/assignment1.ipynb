{
 "cells": [
  {
   "cell_type": "markdown",
   "metadata": {},
   "source": [
    "# Define a function that applies fibonacchi using recursion\n",
    "\n",
    "## Example\n",
    "Input: 10\n",
    "\n",
    "Output: [0, 1, 1, 2, 3, 5, 8, 13, 21, 34]"
   ]
  },
  {
   "cell_type": "code",
   "execution_count": 10,
   "metadata": {},
   "outputs": [
    {
     "name": "stdout",
     "output_type": "stream",
     "text": [
      "please enter positive number10\n",
      "[0, 1, 1, 2, 3, 5, 8, 13, 21, 34]\n"
     ]
    }
   ],
   "source": [
    "# Write your answer here\n",
    "def fib(n):\n",
    "    if n <= 0:\n",
    "        print('invalud input please enter positive number')\n",
    "    if n == 1:\n",
    "        return 0\n",
    "    if n == 2:\n",
    "        return 1\n",
    "    else :\n",
    "        return fib(n-1)+fib(n-2)\n",
    "n = int(input('please enter positive number'))\n",
    "res = []\n",
    "for i in range(1, n+1):\n",
    "    res.append(fib(i))\n",
    "print(res)"
   ]
  },
  {
   "cell_type": "markdown",
   "metadata": {},
   "source": [
    "# Write a Python program to remove an item from a given set\n",
    "\n",
    "## Example\n",
    "my_set: {1, 2, 3, 4, 5}\n",
    "\n",
    "Output: {1, 2, 4, 5}"
   ]
  },
  {
   "cell_type": "code",
   "execution_count": 16,
   "metadata": {},
   "outputs": [
    {
     "name": "stdout",
     "output_type": "stream",
     "text": [
      "please enter number of set elements5\n",
      "Enter elements\n",
      "1\n",
      "2\n",
      "3\n",
      "4\n",
      "5\n",
      "please enter number you want to remove : 3\n",
      "Item removed successfully!\n"
     ]
    }
   ],
   "source": [
    "# Write your answer here\n",
    "my_set = set()\n",
    "n = int(input('please enter number of set elements'))\n",
    "print('Enter elements')\n",
    "for i in range(n):\n",
    "    x = int(input())\n",
    "    my_set.add(x)\n",
    "num  = int(input('please enter number you want to remove : '))\n",
    "try:\n",
    "    my_set.remove(num)\n",
    "    print(\"Item removed successfully!\")\n",
    "except KeyError:\n",
    "    print(f\"Item '{num}' not found in the set.\")\n",
    "    \n"
   ]
  },
  {
   "cell_type": "markdown",
   "metadata": {},
   "source": [
    "# Write a Python program to removes multiple items from a given set\n",
    "\n",
    "## Example\n",
    "my_set: {1, 2, 3, 4, 5}\n",
    "\n",
    "items to be removed: {1, 4}\n",
    "\n",
    "Output: {2, 3, 5}"
   ]
  },
  {
   "cell_type": "code",
   "execution_count": 18,
   "metadata": {},
   "outputs": [
    {
     "name": "stdout",
     "output_type": "stream",
     "text": [
      "please enter number of set elements5\n",
      "Enter elements\n",
      "1\n",
      "2\n",
      "3\n",
      "4\n",
      "5\n",
      "please enter number of elements you want to remove : 2\n",
      "Enter elements\n",
      "2\n",
      "3\n",
      "Item removed successfully!\n",
      "Updated Set: {1, 4, 5}\n"
     ]
    }
   ],
   "source": [
    "# Write your answer here\n",
    "my_set = set()\n",
    "n = int(input('please enter number of set elements'))\n",
    "print('Enter elements')\n",
    "for i in range(n):\n",
    "    x = int(input())\n",
    "    my_set.add(x)\n",
    "num  = int(input('please enter number of elements you want to remove : '))\n",
    "print('Enter elements')\n",
    "rem =set()\n",
    "for i in range(num):\n",
    "    x = int(input())\n",
    "    rem.add(x)\n",
    "    \n",
    "try:\n",
    "    my_set.difference_update(rem)\n",
    "    print(\"Item removed successfully!\")\n",
    "    print(\"Updated Set:\", my_set)\n",
    "except KeyError:\n",
    "    print(f\"Items not found in the set.\")"
   ]
  },
  {
   "cell_type": "markdown",
   "metadata": {},
   "source": [
    "# Write a Python program to find the index of an item in a tuple.\n",
    "\n",
    "## Example\n",
    "my_tuple: ('apple', 'banana', 'orange', 'grape', 'banana')\n",
    "\n",
    "index of 'orange' is: 2"
   ]
  },
  {
   "cell_type": "code",
   "execution_count": 19,
   "metadata": {},
   "outputs": [
    {
     "name": "stdout",
     "output_type": "stream",
     "text": [
      "Original Tuple: ('apple', 'banana', 'orange', 'grape', 'banana')\n",
      "Index of 'orange' is: 2\n"
     ]
    }
   ],
   "source": [
    "# Write your answer here\n",
    "my_tuple = ('apple', 'banana', 'orange', 'grape', 'banana')\n",
    "print(\"Original Tuple:\", my_tuple)\n",
    "\n",
    "item_to_find = 'orange'\n",
    "try:\n",
    "    index = my_tuple.index(item_to_find)\n",
    "    print(f\"Index of '{item_to_find}' is:\", index)\n",
    "except ValueError:\n",
    "    print(f\"Item '{item}' not found in the tuple.\")"
   ]
  },
  {
   "cell_type": "markdown",
   "metadata": {},
   "source": [
    "# Ask user to input a sentence then convert this sentence into list of words. (hint: search for split function)\n",
    "\n",
    "## Example\n",
    "Input: \"Welcome to Amit\"\n",
    "\n",
    "Output: ['Welcome', 'to', 'Amit']"
   ]
  },
  {
   "cell_type": "code",
   "execution_count": 20,
   "metadata": {},
   "outputs": [
    {
     "name": "stdout",
     "output_type": "stream",
     "text": [
      "Enter a sentence: Welcome to Amit\n",
      "Output: ['Welcome', 'to', 'Amit']\n"
     ]
    }
   ],
   "source": [
    "# Write your answer here\n",
    "input_sentence = input(\"Enter a sentence: \")\n",
    "\n",
    "words_list = input_sentence.split()\n",
    "\n",
    "print(\"Output:\", words_list)\n"
   ]
  },
  {
   "cell_type": "markdown",
   "metadata": {},
   "source": [
    "# Take a string from the user and if it's Palindrome print \"Palindrome\" otherwise print \"Not a Palindrome\"\n",
    "\n",
    "A string is Palindrome if it's read the same from the left and right\n",
    "\n",
    "## Example\n",
    "Input: racecar\n",
    "\n",
    "Output: Palindrome"
   ]
  },
  {
   "cell_type": "code",
   "execution_count": 21,
   "metadata": {},
   "outputs": [
    {
     "name": "stdout",
     "output_type": "stream",
     "text": [
      "Enter a string: racecar\n",
      "Palindrome\n"
     ]
    }
   ],
   "source": [
    "# Write your answer here\n",
    "input_str = input(\"Enter a string: \")\n",
    "input_str = input_str.lower()\n",
    "reversed_str = input_str[::-1]\n",
    "if input_str == reversed_str:\n",
    "    print(\"Palindrome\")\n",
    "else:\n",
    "    print(\"Not a Palindrome\")"
   ]
  },
  {
   "cell_type": "markdown",
   "metadata": {},
   "source": [
    "# find the factorial of a number \n",
    "## Example\n",
    "(factorial of 5) = 5 * 4 * 3 * 2 * 1 = 120"
   ]
  },
  {
   "cell_type": "code",
   "execution_count": 25,
   "metadata": {},
   "outputs": [
    {
     "name": "stdout",
     "output_type": "stream",
     "text": [
      "Enter positive number5\n",
      "Factorial of 5 =  12 * 3 * 4 * 5 *  = 120\n"
     ]
    }
   ],
   "source": [
    "# Write your answer here\n",
    "num = int(input('Enter positive number'))\n",
    "if num <= 0:\n",
    "    print('not valid input')\n",
    "else:\n",
    "    fact = 1\n",
    "    fact_str =''\n",
    "    for i in range(1, num+1):\n",
    "        fact *= i\n",
    "        fact_str += str(i) + ' * ' if i != 1 else str(i)\n",
    "    print ('Factorial of 5 = ', fact_str + ' = ' + str(fact))\n",
    "        "
   ]
  },
  {
   "cell_type": "markdown",
   "metadata": {},
   "source": [
    "# Create a List of Squares of Numbers from 1 to 10\n",
    "## Example\n",
    "Output: [1, 4, 9, 16, 25, 36, 49, 64, 81, 100]"
   ]
  },
  {
   "cell_type": "code",
   "execution_count": 26,
   "metadata": {},
   "outputs": [
    {
     "name": "stdout",
     "output_type": "stream",
     "text": [
      "Output: [1, 4, 9, 16, 25, 36, 49, 64, 81, 100]\n"
     ]
    }
   ],
   "source": [
    "# Write your answer here\n",
    "res = []\n",
    "for i in range(1, 11):\n",
    "    res.append(i**2)\n",
    "print('Output:', res)"
   ]
  },
  {
   "cell_type": "markdown",
   "metadata": {},
   "source": [
    "**Another Solution**"
   ]
  },
  {
   "cell_type": "code",
   "execution_count": 27,
   "metadata": {},
   "outputs": [
    {
     "name": "stdout",
     "output_type": "stream",
     "text": [
      "Output: [1, 4, 9, 16, 25, 36, 49, 64, 81, 100]\n"
     ]
    }
   ],
   "source": [
    "# Write your answer here\n",
    "res = [i**2 for i in range(1, 11)]\n",
    "print('Output:', res)"
   ]
  },
  {
   "cell_type": "markdown",
   "metadata": {},
   "source": [
    "# Create a function that Calculates the Sum of Even Numbers in a List\n",
    "## Example\n",
    "numbers: [1, 2, 3, 4, 5, 6]\n",
    "\n",
    "Output: 12"
   ]
  },
  {
   "cell_type": "code",
   "execution_count": 28,
   "metadata": {},
   "outputs": [
    {
     "name": "stdout",
     "output_type": "stream",
     "text": [
      "Original set =  [1, 2, 3, 4, 5, 6]\n",
      "Sum of even numbers =  12\n"
     ]
    }
   ],
   "source": [
    "# Write your answer here\n",
    "def sum_even(lis):\n",
    "    res =0\n",
    "    for elem in lis:\n",
    "        if elem%2 == 0:\n",
    "            res += elem\n",
    "    return res\n",
    "lis = [1, 2, 3, 4, 5, 6]\n",
    "print ('Original set = ', lis)\n",
    "print('Sum of even numbers = ', sum_even(lis))"
   ]
  },
  {
   "cell_type": "markdown",
   "metadata": {},
   "source": [
    "# Create a function that takes a list as input and return reversed list\n",
    "\n",
    "## Example\n",
    "lst: [1, 2, 3]\n",
    "\n",
    "Output: [3, 2, 1]"
   ]
  },
  {
   "cell_type": "code",
   "execution_count": 29,
   "metadata": {},
   "outputs": [
    {
     "name": "stdout",
     "output_type": "stream",
     "text": [
      "Original List: [1, 2, 3]\n",
      "Reversed List: [3, 2, 1]\n"
     ]
    }
   ],
   "source": [
    "# Write your answer here\n",
    "def reverse_list(input_list):\n",
    "    return input_list[::-1]\n",
    "\n",
    "\n",
    "lst = [1, 2, 3]\n",
    "reversed_lst = reverse_list(lst)\n",
    "print(\"Original List:\", lst)\n",
    "print(\"Reversed List:\", reversed_lst)"
   ]
  },
  {
   "cell_type": "markdown",
   "metadata": {},
   "source": [
    "# create a function that calculates the median of a list of numbers (a median is the middle element in sorted list of numbers)\n",
    "\n",
    "## Example\n",
    "numbers: [5, 2, 7, 3, 1]\n",
    "\n",
    "Output: 3"
   ]
  },
  {
   "cell_type": "code",
   "execution_count": 33,
   "metadata": {},
   "outputs": [
    {
     "name": "stdout",
     "output_type": "stream",
     "text": [
      "Median =  3\n"
     ]
    }
   ],
   "source": [
    "# Write your answer here\n",
    "def calc_median(sorted_list):\n",
    "    l = len(sorted_list)\n",
    "    res = 0\n",
    "    idx = l // 2\n",
    "    if l%2 == 1:\n",
    "        res = sorted_list[idx]\n",
    "    else :\n",
    "        res = (sorted_list[idx]+sorted_list[idx-1])/2\n",
    "    return res\n",
    "        \n",
    "    \n",
    "    \n",
    "lis =  [5, 2, 7, 3, 1]\n",
    "sorted_list = sorted(lis)\n",
    "median = calc_median(sorted_list)\n",
    "print('Median = ', median)"
   ]
  },
  {
   "cell_type": "markdown",
   "metadata": {},
   "source": [
    "# create a function that calculates the mode of a list of number (mode is the most frequent element in a list)\n",
    "\n",
    "## Example\n",
    "lst: [5, 2, 7, 3, 2, 1, 5]\n",
    "\n",
    "Output: 5"
   ]
  },
  {
   "cell_type": "code",
   "execution_count": 35,
   "metadata": {},
   "outputs": [
    {
     "name": "stdout",
     "output_type": "stream",
     "text": [
      "List: [5, 2, 7, 3, 2, 1, 5]\n",
      "Mode(s): [5, 2]\n"
     ]
    }
   ],
   "source": [
    "# Write your answer here\n",
    "from collections import Counter\n",
    "\n",
    "def calculate_mode(input_list):\n",
    "    count_dict = Counter(input_list)\n",
    "    \n",
    "    max_count = max(count_dict.values())\n",
    "    mode_list = [num for num, count in count_dict.items() if count == max_count]\n",
    "    \n",
    "    return mode_list\n",
    "\n",
    "\n",
    "numbers = [5, 2, 7, 3, 2, 1, 5]\n",
    "mode_values = calculate_mode(numbers)\n",
    "print(\"List:\", numbers)\n",
    "print(\"Mode(s):\", mode_values)\n"
   ]
  },
  {
   "cell_type": "markdown",
   "metadata": {},
   "source": [
    "# Task: take the mark from the user and convert it to grade according to the following guidelines\n",
    "1. 85-100 A\n",
    "2. 75-85 B\n",
    "3. 65-75 C\n",
    "4. 50-65 D\n",
    "5. <50 F"
   ]
  },
  {
   "cell_type": "code",
   "execution_count": 36,
   "metadata": {},
   "outputs": [
    {
     "name": "stdout",
     "output_type": "stream",
     "text": [
      "Enter the mark: 90\n",
      "Grade for mark 90.0 is: A\n"
     ]
    }
   ],
   "source": [
    "# Write your answer here\n",
    "def convert_to_grade(mark):\n",
    "    if mark >= 85 and mark <= 100:\n",
    "        return 'A'\n",
    "    elif mark >= 75 and mark < 85:\n",
    "        return 'B'\n",
    "    elif mark >= 65 and mark < 75:\n",
    "        return 'C'\n",
    "    elif mark >= 50 and mark < 65:\n",
    "        return 'D'\n",
    "    else:\n",
    "        return 'F'\n",
    "mark = float(input(\"Enter the mark: \"))\n",
    "grade = convert_to_grade(mark)\n",
    "print(f\"Grade for mark {mark} is: {grade}\")\n"
   ]
  },
  {
   "cell_type": "code",
   "execution_count": null,
   "metadata": {},
   "outputs": [],
   "source": []
  }
 ],
 "metadata": {
  "colab": {
   "collapsed_sections": [
    "IZoL1B1NNyIJ",
    "FxOzt49VXjjp",
    "tySmqn_NWn5v",
    "R0d1e5t-dcGx"
   ],
   "provenance": [],
   "toc_visible": true
  },
  "kernelspec": {
   "display_name": "Python 3 (ipykernel)",
   "language": "python",
   "name": "python3"
  },
  "language_info": {
   "codemirror_mode": {
    "name": "ipython",
    "version": 3
   },
   "file_extension": ".py",
   "mimetype": "text/x-python",
   "name": "python",
   "nbconvert_exporter": "python",
   "pygments_lexer": "ipython3",
   "version": "3.11.5"
  }
 },
 "nbformat": 4,
 "nbformat_minor": 1
}
