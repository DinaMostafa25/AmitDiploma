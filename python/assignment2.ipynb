{
 "cells": [
  {
   "cell_type": "markdown",
   "id": "798ef314",
   "metadata": {},
   "source": [
    "##### Write a Python program to add an item to a tuple."
   ]
  },
  {
   "cell_type": "code",
   "execution_count": 119,
   "id": "1d47308f",
   "metadata": {},
   "outputs": [
    {
     "name": "stdout",
     "output_type": "stream",
     "text": [
      "Enter item to be added to the tuple.5\n",
      "Tuple Befor : (1, 2, 3)\n",
      "Tuple After : (1, 2, 3, 5)\n"
     ]
    }
   ],
   "source": [
    "tup = (1,2,3)\n",
    "n = int(input(\"Enter item to be added to the tuple.\")) \n",
    "print(\"Tuple Befor :\", tup)\n",
    "tup = tup+ (n,)\n",
    "print(\"Tuple After :\", tup)"
   ]
  },
  {
   "cell_type": "markdown",
   "id": "7b35e945",
   "metadata": {},
   "source": [
    "##### Write a Python program to sum all the items in a list"
   ]
  },
  {
   "cell_type": "code",
   "execution_count": 101,
   "id": "440d0a59",
   "metadata": {},
   "outputs": [
    {
     "name": "stdout",
     "output_type": "stream",
     "text": [
      "Sum of the list =  10\n"
     ]
    }
   ],
   "source": [
    "lis =[1,2,3,4]\n",
    "_sum =0\n",
    "for i in lis:\n",
    "    _sum += i\n",
    "print(\"Sum of the list = \", _sum)"
   ]
  },
  {
   "cell_type": "markdown",
   "id": "de86362f",
   "metadata": {},
   "source": [
    "##### Write a Python program to multiply all the items in a list"
   ]
  },
  {
   "cell_type": "code",
   "execution_count": 102,
   "id": "e3fe5872",
   "metadata": {},
   "outputs": [
    {
     "name": "stdout",
     "output_type": "stream",
     "text": [
      "Multiplication of the list =  24\n"
     ]
    }
   ],
   "source": [
    "lis =[1,2,3,4]\n",
    "mul = 1\n",
    "for i in lis:\n",
    "    mul *= i\n",
    "print(\"Multiplication of the list = \", mul)"
   ]
  },
  {
   "cell_type": "markdown",
   "id": "e5a86a83",
   "metadata": {},
   "source": [
    "##### Write a Python program to get the smallest number from a list."
   ]
  },
  {
   "cell_type": "code",
   "execution_count": 103,
   "id": "3f4545e9",
   "metadata": {},
   "outputs": [
    {
     "name": "stdout",
     "output_type": "stream",
     "text": [
      "Smallest number of the list =  -10\n"
     ]
    }
   ],
   "source": [
    "lis =[1,-5,5, 3,2, 4,7,-10,9]\n",
    "print(\"Smallest number of the list = \", min(lis))"
   ]
  },
  {
   "cell_type": "markdown",
   "id": "2eb1aa9c",
   "metadata": {},
   "source": [
    "##### Write a Python program to get the smallest number from a list."
   ]
  },
  {
   "cell_type": "code",
   "execution_count": 104,
   "id": "bf2e20a0",
   "metadata": {},
   "outputs": [
    {
     "name": "stdout",
     "output_type": "stream",
     "text": [
      "Largest number of the list =  9\n"
     ]
    }
   ],
   "source": [
    "lis =[1,-5,5, 3,2, 4,7,-10,9]\n",
    "print(\"Largest number of the list = \", max(lis))"
   ]
  },
  {
   "cell_type": "markdown",
   "id": "fe91728e",
   "metadata": {},
   "source": [
    "##### Write a Python program to count the number of strings from a given list of strings"
   ]
  },
  {
   "cell_type": "code",
   "execution_count": 105,
   "id": "00db9d22",
   "metadata": {},
   "outputs": [
    {
     "name": "stdout",
     "output_type": "stream",
     "text": [
      "Enter String : \n",
      "Number of strings =  0\n"
     ]
    }
   ],
   "source": [
    "s = input(\"Enter String : \")\n",
    "lis = s.split()\n",
    "n = len(lis)\n",
    "print(\"Number of strings = \", n)"
   ]
  },
  {
   "cell_type": "markdown",
   "id": "705d4de7",
   "metadata": {},
   "source": [
    "##### Write a Python program to clone or copy a list"
   ]
  },
  {
   "cell_type": "code",
   "execution_count": 106,
   "id": "70d2636a",
   "metadata": {},
   "outputs": [
    {
     "name": "stdout",
     "output_type": "stream",
     "text": [
      "The copy of the list :  [1, -5, 5, 3, 2, 4, 7, -10, 9]\n"
     ]
    }
   ],
   "source": [
    "import copy\n",
    "lis =[1,-5,5, 3,2, 4,7,-10,9]\n",
    "cpy = copy.copy(lis)\n",
    "print(\"The copy of the list : \", cpy)"
   ]
  },
  {
   "cell_type": "markdown",
   "id": "b02ddd26",
   "metadata": {},
   "source": [
    "##### Write a Python program to remove item(s) from a given set"
   ]
  },
  {
   "cell_type": "code",
   "execution_count": 1,
   "id": "5d71b80f",
   "metadata": {},
   "outputs": [
    {
     "name": "stdout",
     "output_type": "stream",
     "text": [
      "Updated Set after removal: {2, 3, 5}\n"
     ]
    }
   ],
   "source": [
    "def remove_items_from_set(input_set, items_to_remove):\n",
    "    input_set.difference_update(items_to_remove)\n",
    "    return input_set\n",
    "\n",
    "my_set = {1, 2, 3, 4, 5}\n",
    "items_to_remove = {1, 4}\n",
    "\n",
    "updated_set = remove_items_from_set(my_set, items_to_remove)\n",
    "print(\"Updated Set after removal:\", updated_set)\n"
   ]
  },
  {
   "cell_type": "markdown",
   "id": "ffff13ca",
   "metadata": {},
   "source": [
    "##### Write a Python program to check if a set is a subset of another set.\n"
   ]
  },
  {
   "cell_type": "code",
   "execution_count": 108,
   "id": "1efc36ac",
   "metadata": {},
   "outputs": [
    {
     "name": "stdout",
     "output_type": "stream",
     "text": [
      "X =  {1, 2, 3, 4, 5, 35, 66, 100, 15, 20}\n",
      "Y =  {1, 2, 35, 5}\n",
      "Z =  {8, 5, 7}\n",
      "Check if Y is subset of X :  True\n",
      "Check if Z is subset of X :  False\n"
     ]
    }
   ],
   "source": [
    "x = {1,2,3, 4, 5, 15,20,35,66,100}\n",
    "y = {1, 2, 5, 35}\n",
    "z = {7, 8, 5}\n",
    "print(\"X = \", x)\n",
    "print(\"Y = \", y)\n",
    "print(\"Z = \", z)\n",
    "print(\"Check if Y is subset of X : \", y.issubset(x))\n",
    "print(\"Check if Z is subset of X : \", z.issubset(x))"
   ]
  },
  {
   "cell_type": "markdown",
   "id": "8dc822b8",
   "metadata": {},
   "source": [
    "##### Write a Python program to remove all elements from a given set.\n"
   ]
  },
  {
   "cell_type": "code",
   "execution_count": 109,
   "id": "5404d799",
   "metadata": {},
   "outputs": [
    {
     "name": "stdout",
     "output_type": "stream",
     "text": [
      "X Befor Clearing :  {1, 2, 3, 4, 5, 35, 66, 100, 15, 20}\n",
      "X After Clearing :  set()\n"
     ]
    }
   ],
   "source": [
    "x = {1,2,3, 4, 5, 15,20,35,66,100}\n",
    "print(\"X Befor Clearing : \", x)\n",
    "x.clear()\n",
    "print(\"X After Clearing : \", x)"
   ]
  },
  {
   "cell_type": "markdown",
   "id": "486e967c",
   "metadata": {},
   "source": [
    "##### Write a Python program to find the maximum and minimum values in a set.\n"
   ]
  },
  {
   "cell_type": "code",
   "execution_count": 110,
   "id": "9d71ce87",
   "metadata": {},
   "outputs": [
    {
     "name": "stdout",
     "output_type": "stream",
     "text": [
      "Minimum value :  -99\n",
      "Maximum value :  100\n"
     ]
    }
   ],
   "source": [
    "x = {1,2,3, 4, 5, 15,20,35,66,100, -4, -99}\n",
    "print(\"Minimum value : \", min(x))\n",
    "print(\"Maximum value : \", max(x))"
   ]
  },
  {
   "cell_type": "markdown",
   "id": "6faf60b0",
   "metadata": {},
   "source": [
    "##### Write a Python program to find the index of an item in a tuple."
   ]
  },
  {
   "cell_type": "code",
   "execution_count": 120,
   "id": "da12167e",
   "metadata": {},
   "outputs": [
    {
     "name": "stdout",
     "output_type": "stream",
     "text": [
      "Enter value to get its index : 5\n",
      "Index of  5  =  4\n"
     ]
    }
   ],
   "source": [
    "tp = (1,2,3, 4, 5, 15,20,35,66,100, -4, -99)\n",
    "elem = input(\"Enter value to get its index : \")\n",
    "tmp = str(tp)\n",
    "if elem in tmp:\n",
    "    print(\"Index of \", elem, \" = \", tp.index(int(elem)))\n",
    "else:\n",
    "    print(\"Enter valid number\")"
   ]
  },
  {
   "cell_type": "markdown",
   "id": "acf61197",
   "metadata": {},
   "source": [
    "#####  Write a Python program to convert a tuple to a dictionary.\n"
   ]
  },
  {
   "cell_type": "code",
   "execution_count": 112,
   "id": "ae97419f",
   "metadata": {},
   "outputs": [
    {
     "name": "stdout",
     "output_type": "stream",
     "text": [
      "My dictionary : \n",
      "{0: 0, 1: 1, 2: 2, 3: 3, 4: 4, 5: 5, 6: 15, 7: 20, 8: 35, 9: 66, 10: 100, 11: -4, 12: -99}\n"
     ]
    }
   ],
   "source": [
    "tp = (1,2,3, 4, 5, 15,20,35,66,100, -4, -99)\n",
    "dic = {0:0}\n",
    "for i in tp:\n",
    "    dic[tp.index(i)+1] = i\n",
    "print(\"My dictionary : \")\n",
    "print(dic)\n"
   ]
  },
  {
   "cell_type": "markdown",
   "id": "38e33728",
   "metadata": {},
   "source": [
    "##### Write a Python program to unzip a list of tuples into individual lists."
   ]
  },
  {
   "cell_type": "code",
   "execution_count": 113,
   "id": "a2948a15",
   "metadata": {},
   "outputs": [
    {
     "name": "stdout",
     "output_type": "stream",
     "text": [
      "[(1, 4, 7), (2, 5, 8), (3, 6, 9)]\n"
     ]
    }
   ],
   "source": [
    "lis = [(1,2,3), (4, 5,6), (7, 8, 9)]\n",
    "print(list(zip(*lis)))"
   ]
  },
  {
   "cell_type": "markdown",
   "id": "27683e27",
   "metadata": {},
   "source": [
    "##### Write a Python program to reverse a tuple"
   ]
  },
  {
   "cell_type": "code",
   "execution_count": 114,
   "id": "8dbbb014",
   "metadata": {},
   "outputs": [
    {
     "name": "stdout",
     "output_type": "stream",
     "text": [
      "Original Tuple :  (1, 2, 3, 4, 5, 15, 20, 35, 66, 100, -4, -99)\n",
      "Reversed Tuple :  (-99, -4, 100, 66, 35, 20, 15, 5, 4, 3, 2, 1)\n"
     ]
    }
   ],
   "source": [
    "tp = (1,2,3, 4, 5, 15,20,35,66,100, -4, -99)\n",
    "rev_tp = tuple(reversed(tp))\n",
    "print(\"Original Tuple : \", tp)\n",
    "print(\"Reversed Tuple : \", rev_tp)"
   ]
  },
  {
   "cell_type": "markdown",
   "id": "d20a7546",
   "metadata": {},
   "source": [
    "##### Write a Python program to convert a list of tuples into a dictionary."
   ]
  },
  {
   "cell_type": "code",
   "execution_count": 115,
   "id": "3609b275",
   "metadata": {},
   "outputs": [
    {
     "name": "stdout",
     "output_type": "stream",
     "text": [
      "Tuple :  [(1, 'a'), (2, 'b'), (3, 'c'), (4, 'd'), (5, 'e')]\n",
      "Dictionary :  {1: 'a', 2: 'b', 3: 'c', 4: 'd', 5: 'e'}\n"
     ]
    }
   ],
   "source": [
    "tp = [(1,'a'), (2,'b'), (3,'c'), (4,'d'), (5,'e')]\n",
    "dic = dict(tp)\n",
    "print(\"Tuple : \", tp)\n",
    "print(\"Dictionary : \", dic)\n"
   ]
  },
  {
   "cell_type": "code",
   "execution_count": 116,
   "id": "5144b01a",
   "metadata": {},
   "outputs": [
    {
     "name": "stdout",
     "output_type": "stream",
     "text": [
      "Tuple :  [(1, 'a'), (2, 'b'), (3, 'c'), (4, 'd'), (5, 'e')]\n",
      "Dictionary :  {1: 'a', 2: 'b', 3: 'c', 4: 'd', 5: 'e'}\n"
     ]
    }
   ],
   "source": [
    "tp = [(1,'a'), (2,'b'), (3,'c'), (4,'d'), (5,'e')]\n",
    "dic = {}\n",
    "for i, j in tp:\n",
    "    dic.setdefault(i,j)\n",
    "print(\"Tuple : \", tp)\n",
    "print(\"Dictionary : \", dic)"
   ]
  },
  {
   "cell_type": "markdown",
   "id": "8e15078f",
   "metadata": {},
   "source": [
    "### Write a Python program to replace the last value of tuples in a list.\n",
    "###### Sample list: [(10, 20, 40), (40, 50, 60), (70, 80, 90)]\n",
    "###### Expected Output: [(10, 20, 100), (40, 50, 100), (70, 80, 100)]"
   ]
  },
  {
   "cell_type": "code",
   "execution_count": 117,
   "id": "deb22507",
   "metadata": {},
   "outputs": [
    {
     "name": "stdout",
     "output_type": "stream",
     "text": [
      "[(10, 20, 100), (40, 50, 100), (70, 80, 100)]\n"
     ]
    }
   ],
   "source": [
    "ls_tp = [(10, 20, 40), (40, 50, 60), (70, 80, 90)]\n",
    "res_ls = [rec[:-1]+(100,) for rec in ls_tp]  \n",
    "print(res_ls)"
   ]
  },
  {
   "cell_type": "markdown",
   "id": "2f951959",
   "metadata": {},
   "source": [
    "##### Write a Python program to sort a tuple by its float element."
   ]
  },
  {
   "cell_type": "code",
   "execution_count": 118,
   "id": "7baf737c",
   "metadata": {},
   "outputs": [
    {
     "name": "stdout",
     "output_type": "stream",
     "text": [
      "Original Tuple :  [('a', 1.3), ('b', 1.1), ('c', 3.5), ('d', 2.3), ('e', 3.6)]\n",
      "Dictionary :  [('b', 1.1), ('a', 1.3), ('d', 2.3), ('c', 3.5), ('e', 3.6)]\n"
     ]
    }
   ],
   "source": [
    "tp = [('a', 1.3), ('b', 1.1), ('c', 3.5), ('d', 2.3), ('e', 3.6)]\n",
    "print(\"Original Tuple : \", tp)\n",
    "tp.sort(key = lambda i : float(i[1]))\n",
    "print(\"Dictionary : \", tp)\n"
   ]
  },
  {
   "cell_type": "code",
   "execution_count": null,
   "id": "a9282fae",
   "metadata": {},
   "outputs": [],
   "source": []
  }
 ],
 "metadata": {
  "kernelspec": {
   "display_name": "Python 3 (ipykernel)",
   "language": "python",
   "name": "python3"
  },
  "language_info": {
   "codemirror_mode": {
    "name": "ipython",
    "version": 3
   },
   "file_extension": ".py",
   "mimetype": "text/x-python",
   "name": "python",
   "nbconvert_exporter": "python",
   "pygments_lexer": "ipython3",
   "version": "3.11.5"
  }
 },
 "nbformat": 4,
 "nbformat_minor": 5
}
