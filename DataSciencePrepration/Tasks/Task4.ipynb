{
 "cells": [
  {
   "cell_type": "code",
   "execution_count": 1,
   "id": "9e69bfce",
   "metadata": {},
   "outputs": [],
   "source": [
    "import pandas as pd\n",
    "import numpy as np"
   ]
  },
  {
   "cell_type": "markdown",
   "id": "9373e08a",
   "metadata": {},
   "source": [
    "Write a Pandas program to create and display a one-dimensional array-like\n",
    "object containing an array of data using Pandas module"
   ]
  },
  {
   "cell_type": "code",
   "execution_count": 2,
   "id": "ef5d1283",
   "metadata": {},
   "outputs": [
    {
     "name": "stdout",
     "output_type": "stream",
     "text": [
      "One-dimensional array-like object (Series):\n",
      "0    10\n",
      "1    20\n",
      "2    30\n",
      "3    40\n",
      "4    50\n",
      "dtype: int64\n"
     ]
    }
   ],
   "source": [
    "data = [10, 20, 30, 40, 50] \n",
    "series = pd.Series(data)\n",
    "\n",
    "print(\"One-dimensional array-like object (Series):\")\n",
    "print(series)"
   ]
  },
  {
   "cell_type": "markdown",
   "id": "f8d869d5",
   "metadata": {},
   "source": [
    "Write a Pandas program to convert a Panda module Series to Python list and it's\n",
    "type."
   ]
  },
  {
   "cell_type": "code",
   "execution_count": 3,
   "id": "88d39cdd",
   "metadata": {},
   "outputs": [
    {
     "name": "stdout",
     "output_type": "stream",
     "text": [
      "Python list from Pandas Series: [10, 20, 30, 40, 50]\n",
      "Type of the Python list: <class 'list'>\n"
     ]
    }
   ],
   "source": [
    "series = pd.Series([10, 20, 30, 40, 50])\n",
    "list_from_series = series.tolist()\n",
    "list_type = type(list_from_series)\n",
    "print(\"Python list from Pandas Series:\", list_from_series)\n",
    "print(\"Type of the Python list:\", list_type)\n"
   ]
  },
  {
   "cell_type": "markdown",
   "id": "c60a1ff8",
   "metadata": {},
   "source": [
    ". Write a Pandas program to compare the elements of the two Pandas Series."
   ]
  },
  {
   "cell_type": "code",
   "execution_count": 4,
   "id": "84f72db2",
   "metadata": {},
   "outputs": [
    {
     "name": "stdout",
     "output_type": "stream",
     "text": [
      "Comparison result:\n",
      "0     True\n",
      "1    False\n",
      "2    False\n",
      "3     True\n",
      "4     True\n",
      "dtype: bool\n"
     ]
    }
   ],
   "source": [
    "\n",
    "series1 = pd.Series([1, 2, 3, 4, 5])\n",
    "series2 = pd.Series([1, 3, 2, 4, 5])\n",
    "comparison_result = series1 == series2\n",
    "print(\"Comparison result:\")\n",
    "print(comparison_result)\n"
   ]
  },
  {
   "cell_type": "markdown",
   "id": "9fe83cea",
   "metadata": {},
   "source": [
    "Write a Pandas program to change the data type of given a column or a Series."
   ]
  },
  {
   "cell_type": "code",
   "execution_count": 5,
   "id": "5ebfd9a6",
   "metadata": {},
   "outputs": [
    {
     "name": "stdout",
     "output_type": "stream",
     "text": [
      "Original data type:\n",
      "int64\n",
      "\n",
      "New data type:\n",
      "float64\n"
     ]
    }
   ],
   "source": [
    "\n",
    "series = pd.Series([1, 2, 3, 4, 5])\n",
    "print(\"Original data type:\")\n",
    "print(series.dtype)\n",
    "\n",
    "series = series.astype(float)\n",
    "print(\"\\nNew data type:\")\n",
    "print(series.dtype)\n"
   ]
  },
  {
   "cell_type": "markdown",
   "id": "86d8c6a0",
   "metadata": {},
   "source": [
    "Write a Pandas program to get the powers of an array values element-wise.\n",
    "\n",
    "Note: First array elements raised to powers from second array\n",
    "\n",
    "Sample data: {'X':[78,85,96,80,86], 'Y':[84,94,89,83,86],'Z':[86,97,96,72,83]}\n",
    "\n",
    "Expected Output:\n",
    "\n",
    "X Y Z\n",
    "\n",
    "0 78 84 86\n",
    "\n",
    "1 85 94 97\n",
    "\n",
    "2 96 89 96\n",
    "\n",
    "3 80 83 72\n",
    "\n",
    "4 86 86 83\n"
   ]
  },
  {
   "cell_type": "code",
   "execution_count": 6,
   "id": "1288a7b5",
   "metadata": {},
   "outputs": [
    {
     "name": "stdout",
     "output_type": "stream",
     "text": [
      "Expected Output:\n",
      "    X     Y       Z\n",
      "0  78  7056  636056\n",
      "1  85  8836  912673\n",
      "2  96  7921  884736\n",
      "3  80  6889  373248\n",
      "4  86  7396  571787\n"
     ]
    }
   ],
   "source": [
    "\n",
    "data = {'X': [78, 85, 96, 80, 86],\n",
    "        'Y': [84, 94, 89, 83, 86],\n",
    "        'Z': [86, 97, 96, 72, 83]}\n",
    "\n",
    "\n",
    "df = pd.DataFrame(data)\n",
    "\n",
    "powers = np.power(df.values, np.arange(1, len(df.columns) + 1))\n",
    "\n",
    "result = pd.DataFrame(powers, columns=df.columns)\n",
    "\n",
    "# Display the result\n",
    "print(\"Expected Output:\")\n",
    "print(result)\n"
   ]
  },
  {
   "cell_type": "markdown",
   "id": "7bc80826",
   "metadata": {},
   "source": [
    "6. Write a Pandas program to get the first 3 rows of a given DataFrame.\n",
    "\n",
    "Sample Python dictionary data and list labels:\n",
    "\n",
    "exam_data = {'name': ['Anastasia', 'Dima', 'Katherine', 'James', 'Emily', 'Michael',\n",
    "\n",
    "'Matthew', 'Laura', 'Kevin', 'Jonas'],\n",
    "\n",
    "'score': [12.5, 9, 16.5, np.nan, 9, 20, 14.5, np.nan, 8, 19],\n",
    "\n",
    "'attempts': [1, 3, 2, 3, 2, 3, 1, 1, 2, 1],\n",
    "\n",
    "'qualify': ['yes', 'no', 'yes', 'no', 'no', 'yes', 'yes', 'no', 'no', 'yes']}\n",
    "\n",
    "labels = ['a', 'b', 'c', 'd', 'e', 'f', 'g', 'h', 'i', 'j']\n",
    "\n",
    "Expected Output:\n",
    "\n",
    "First three rows of the data frame:\n",
    "\n",
    "attempts name qualify score\n",
    "\n",
    "a 1 Anastasia yes 12.5\n",
    "\n",
    "b 3 Dima no 9.0\n",
    "\n",
    "c 2 Katherine yes 16.5"
   ]
  },
  {
   "cell_type": "code",
   "execution_count": 7,
   "id": "ca05cbd0",
   "metadata": {},
   "outputs": [
    {
     "name": "stdout",
     "output_type": "stream",
     "text": [
      "First three rows of the data frame:\n",
      "        name  score  attempts qualify\n",
      "a  Anastasia   12.5         1     yes\n",
      "b       Dima    9.0         3      no\n",
      "c  Katherine   16.5         2     yes\n"
     ]
    }
   ],
   "source": [
    "\n",
    "exam_data = {\n",
    "    'name': ['Anastasia', 'Dima', 'Katherine', 'James', 'Emily', 'Michael', 'Matthew', 'Laura', 'Kevin', 'Jonas'],\n",
    "    'score': [12.5, 9, 16.5, np.nan, 9, 20, 14.5, np.nan, 8, 19],\n",
    "    'attempts': [1, 3, 2, 3, 2, 3, 1, 1, 2, 1],\n",
    "    'qualify': ['yes', 'no', 'yes', 'no', 'no', 'yes', 'yes', 'no', 'no', 'yes']\n",
    "}\n",
    "labels = ['a', 'b', 'c', 'd', 'e', 'f', 'g', 'h', 'i', 'j']\n",
    "\n",
    "\n",
    "df = pd.DataFrame(exam_data, index=labels)\n",
    "\n",
    "\n",
    "first_three_rows = df.head(3)\n",
    "\n",
    "\n",
    "print(\"First three rows of the data frame:\")\n",
    "print(first_three_rows)\n"
   ]
  },
  {
   "cell_type": "markdown",
   "id": "99dc9073",
   "metadata": {},
   "source": [
    "Write a Pandas program to display the default index and set a column as an\n",
    "Index in a given dataframe."
   ]
  },
  {
   "cell_type": "code",
   "execution_count": 8,
   "id": "245ca71b",
   "metadata": {},
   "outputs": [
    {
     "name": "stdout",
     "output_type": "stream",
     "text": [
      "Default index:\n",
      "   A   B  C\n",
      "0  1   6  a\n",
      "1  2   7  b\n",
      "2  3   8  c\n",
      "3  4   9  d\n",
      "4  5  10  e\n",
      "\n",
      "DataFrame with 'C' column as index:\n",
      "   A   B\n",
      "C       \n",
      "a  1   6\n",
      "b  2   7\n",
      "c  3   8\n",
      "d  4   9\n",
      "e  5  10\n"
     ]
    }
   ],
   "source": [
    "data = {\n",
    "    'A': [1, 2, 3, 4, 5],\n",
    "    'B': [6, 7, 8, 9, 10],\n",
    "    'C': ['a', 'b', 'c', 'd', 'e']\n",
    "}\n",
    "\n",
    "\n",
    "df = pd.DataFrame(data)\n",
    "print(\"Default index:\")\n",
    "print(df)\n",
    "\n",
    "df_with_index = df.set_index('C')\n",
    "print(\"\\nDataFrame with 'C' column as index:\")\n",
    "print(df_with_index)\n",
    "\n"
   ]
  },
  {
   "cell_type": "markdown",
   "id": "c9109f8e",
   "metadata": {},
   "source": [
    "Write a Pandas program to display the default index and set a column as an\n",
    "Index in a given dataframe and then reset the index"
   ]
  },
  {
   "cell_type": "code",
   "execution_count": 9,
   "id": "988520d4",
   "metadata": {},
   "outputs": [
    {
     "name": "stdout",
     "output_type": "stream",
     "text": [
      "Default index:\n",
      "   A   B  C\n",
      "0  1   6  a\n",
      "1  2   7  b\n",
      "2  3   8  c\n",
      "3  4   9  d\n",
      "4  5  10  e\n",
      "\n",
      "DataFrame with 'C' column as index:\n",
      "   A   B\n",
      "C       \n",
      "a  1   6\n",
      "b  2   7\n",
      "c  3   8\n",
      "d  4   9\n",
      "e  5  10\n",
      "\n",
      "DataFrame with index reset:\n",
      "   C  A   B\n",
      "0  a  1   6\n",
      "1  b  2   7\n",
      "2  c  3   8\n",
      "3  d  4   9\n",
      "4  e  5  10\n"
     ]
    }
   ],
   "source": [
    "data = {\n",
    "    'A': [1, 2, 3, 4, 5],\n",
    "    'B': [6, 7, 8, 9, 10],\n",
    "    'C': ['a', 'b', 'c', 'd', 'e']\n",
    "}\n",
    "\n",
    "\n",
    "df = pd.DataFrame(data)\n",
    "print(\"Default index:\")\n",
    "print(df)\n",
    "\n",
    "df_with_index = df.set_index('C')\n",
    "print(\"\\nDataFrame with 'C' column as index:\")\n",
    "print(df_with_index)\n",
    "\n",
    "\n",
    "df_reset_index = df_with_index.reset_index()\n",
    "print(\"\\nDataFrame with index reset:\")\n",
    "print(df_reset_index)"
   ]
  },
  {
   "cell_type": "markdown",
   "id": "c67bf3d5",
   "metadata": {},
   "source": [
    "Write a Pandas program to create a dataframe indexing by date and time."
   ]
  },
  {
   "cell_type": "code",
   "execution_count": 10,
   "id": "c572fe27",
   "metadata": {},
   "outputs": [
    {
     "name": "stdout",
     "output_type": "stream",
     "text": [
      "DataFrame indexed by date and time:\n",
      "                     value category\n",
      "2022-01-01 00:00:00     10        A\n",
      "2022-01-01 01:00:00     20        B\n",
      "2022-01-01 02:00:00     30        C\n",
      "2022-01-01 03:00:00     40        D\n",
      "2022-01-01 04:00:00     50        E\n"
     ]
    }
   ],
   "source": [
    "data = {\n",
    "    'value': [10, 20, 30, 40, 50],\n",
    "    'category': ['A', 'B', 'C', 'D', 'E']\n",
    "}\n",
    "\n",
    "dates = pd.date_range(start = '2022-01-01', periods = 5, freq = 'H')\n",
    "df = pd.DataFrame( data, index = dates)\n",
    "print(\"DataFrame indexed by date and time:\")\n",
    "print(df)"
   ]
  },
  {
   "cell_type": "markdown",
   "id": "1b59e851",
   "metadata": {},
   "source": [
    "Write a Pandas program to create a dataframe and set a title or name of the\n",
    "index column.\n"
   ]
  },
  {
   "cell_type": "code",
   "execution_count": 11,
   "id": "0794eec6",
   "metadata": {},
   "outputs": [
    {
     "name": "stdout",
     "output_type": "stream",
     "text": [
      "DataFrame with the index column named 'IndexColumn':\n",
      "       A   B  C\n",
      "INDEX          \n",
      "0      1   6  a\n",
      "1      2   7  b\n",
      "2      3   8  c\n",
      "3      4   9  d\n",
      "4      5  10  e\n"
     ]
    }
   ],
   "source": [
    "data = {\n",
    "    'A': [1, 2, 3, 4, 5],\n",
    "    'B': [6, 7, 8, 9, 10],\n",
    "    'C': ['a', 'b', 'c', 'd', 'e']\n",
    "}\n",
    "\n",
    "df = pd.DataFrame(data)\n",
    "df.index.name = 'INDEX'\n",
    "\n",
    "print(\"DataFrame with the index column named 'IndexColumn':\")\n",
    "print(df)"
   ]
  },
  {
   "cell_type": "markdown",
   "id": "7473e53c",
   "metadata": {},
   "source": [
    "Write a Pandas program to select a specific row of given series/dataframe by\n",
    "integer index"
   ]
  },
  {
   "cell_type": "code",
   "execution_count": 13,
   "id": "2d85f90b",
   "metadata": {},
   "outputs": [
    {
     "name": "stdout",
     "output_type": "stream",
     "text": [
      "Specific element selected from Series:\n",
      "30\n"
     ]
    }
   ],
   "source": [
    "s = pd.Series([10, 20, 30, 40, 50])\n",
    "elem = s.iloc[2]\n",
    "print(\"Specific element selected from Series:\")\n",
    "print(elem)"
   ]
  },
  {
   "cell_type": "code",
   "execution_count": null,
   "id": "ee874ec5",
   "metadata": {},
   "outputs": [],
   "source": []
  }
 ],
 "metadata": {
  "kernelspec": {
   "display_name": "Python 3 (ipykernel)",
   "language": "python",
   "name": "python3"
  },
  "language_info": {
   "codemirror_mode": {
    "name": "ipython",
    "version": 3
   },
   "file_extension": ".py",
   "mimetype": "text/x-python",
   "name": "python",
   "nbconvert_exporter": "python",
   "pygments_lexer": "ipython3",
   "version": "3.11.5"
  }
 },
 "nbformat": 4,
 "nbformat_minor": 5
}
