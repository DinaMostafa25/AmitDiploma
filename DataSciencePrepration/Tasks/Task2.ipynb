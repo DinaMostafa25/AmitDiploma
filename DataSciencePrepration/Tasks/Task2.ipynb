{
 "cells": [
  {
   "cell_type": "code",
   "execution_count": 1,
   "id": "a6c20967",
   "metadata": {},
   "outputs": [],
   "source": [
    "import numpy as np"
   ]
  },
  {
   "cell_type": "markdown",
   "id": "5738fe68",
   "metadata": {},
   "source": [
    "###  Write a NumPy program to test whether none of the elements of a given array is zero."
   ]
  },
  {
   "cell_type": "code",
   "execution_count": 3,
   "id": "d8b0ea8d",
   "metadata": {},
   "outputs": [
    {
     "name": "stdout",
     "output_type": "stream",
     "text": [
      "Array 1: [1 2 3 4]\n",
      "None of the elements in array 1 are zero: True\n",
      "Array 2: [1 2 0 4]\n",
      "None of the elements in array 2 are zero: False\n"
     ]
    }
   ],
   "source": [
    "def none_zero(arr):\n",
    "    return not np.any(arr == 0)\n",
    "arr1 = np.array([1, 2, 3, 4])\n",
    "arr2 = np.array([1, 2, 0, 4])\n",
    "print(\"Array 1:\", arr1)\n",
    "print(\"None of the elements in array 1 are zero:\", none_zero(arr1))\n",
    "\n",
    "print(\"Array 2:\", arr2)\n",
    "print(\"None of the elements in array 2 are zero:\", none_zero(arr2))"
   ]
  },
  {
   "cell_type": "markdown",
   "id": "9f80a529",
   "metadata": {},
   "source": [
    "####  Write a NumPy program to test whether any of the elements of a given array is non-zero."
   ]
  },
  {
   "cell_type": "code",
   "execution_count": 5,
   "id": "cec31595",
   "metadata": {},
   "outputs": [
    {
     "name": "stdout",
     "output_type": "stream",
     "text": [
      "Array 1: [1 2 3 4]\n",
      "any of the elements in array 1 are zero: False\n",
      "Array 2: [1 2 0 4]\n",
      "any of the elements in array 2 are zero: True\n"
     ]
    }
   ],
   "source": [
    "def none_zero(arr):\n",
    "    return  np.any(arr == 0)\n",
    "arr1 = np.array([1, 2, 3, 4])\n",
    "arr2 = np.array([1, 2, 0, 4])\n",
    "print(\"Array 1:\", arr1)\n",
    "print(\"any of the elements in array 1 are zero:\", none_zero(arr1))\n",
    "\n",
    "print(\"Array 2:\", arr2)\n",
    "print(\"any of the elements in array 2 are zero:\", none_zero(arr2))"
   ]
  },
  {
   "cell_type": "markdown",
   "id": "af2d915f",
   "metadata": {},
   "source": [
    "#### Write a NumPy program to create an element-wise comparison (equal, equal within a tolerance) of two given"
   ]
  },
  {
   "cell_type": "code",
   "execution_count": 6,
   "id": "0a711dab",
   "metadata": {},
   "outputs": [
    {
     "name": "stdout",
     "output_type": "stream",
     "text": [
      "Array 1: [1. 2. 3.]\n",
      "Array 2: [1. 2. 3.]\n",
      "Are arrays 1 and 2 equal within tolerance? True\n",
      "Array 1: [1. 2. 3.]\n",
      "Array 3: [1.         2.         3.00000001]\n",
      "Are arrays 1 and 3 equal within tolerance? True\n"
     ]
    }
   ],
   "source": [
    "\n",
    "\n",
    "def compare_arrays(arr1, arr2, tol=1e-8):\n",
    "    return np.allclose(arr1, arr2, atol=tol)\n",
    "\n",
    "# Test the function\n",
    "arr1 = np.array([1.0, 2.0, 3.0])\n",
    "arr2 = np.array([1.0, 2.0, 3.0])\n",
    "arr3 = np.array([1.0, 2.0, 3.00000001])\n",
    "\n",
    "print(\"Array 1:\", arr1)\n",
    "print(\"Array 2:\", arr2)\n",
    "print(\"Are arrays 1 and 2 equal within tolerance?\", compare_arrays(arr1, arr2))\n",
    "\n",
    "print(\"Array 1:\", arr1)\n",
    "print(\"Array 3:\", arr3)\n",
    "print(\"Are arrays 1 and 3 equal within tolerance?\", compare_arrays(arr1, arr3))\n"
   ]
  },
  {
   "cell_type": "markdown",
   "id": "fe4e2b99",
   "metadata": {},
   "source": [
    "#### Write a NumPy program to create an array of 10 zeros,10 ones, 10 fives.\n"
   ]
  },
  {
   "cell_type": "code",
   "execution_count": 7,
   "id": "56e3ee1f",
   "metadata": {},
   "outputs": [
    {
     "name": "stdout",
     "output_type": "stream",
     "text": [
      "Array of 10 zeros: [0. 0. 0. 0. 0. 0. 0. 0. 0. 0.]\n",
      "Array of 10 ones: [1. 1. 1. 1. 1. 1. 1. 1. 1. 1.]\n",
      "Array of 10 fives: [5 5 5 5 5 5 5 5 5 5]\n",
      "Resulting array: [0. 0. 0. 0. 0. 0. 0. 0. 0. 0. 1. 1. 1. 1. 1. 1. 1. 1. 1. 1. 5. 5. 5. 5.\n",
      " 5. 5. 5. 5. 5. 5.]\n"
     ]
    }
   ],
   "source": [
    "zeros_array = np.zeros(10)\n",
    "ones_array = np.ones(10)\n",
    "fives_array = np.full(10, 5)\n",
    "result_array = np.concatenate([zeros_array, ones_array, fives_array])\n",
    "\n",
    "print(\"Array of 10 zeros:\", zeros_array)\n",
    "print(\"Array of 10 ones:\", ones_array)\n",
    "print(\"Array of 10 fives:\", fives_array)\n",
    "print(\"Resulting array:\", result_array)\n"
   ]
  },
  {
   "cell_type": "markdown",
   "id": "d82e9c18",
   "metadata": {},
   "source": [
    "#### Write a NumPy program to create an array of the integers from 30 to70.\n"
   ]
  },
  {
   "cell_type": "code",
   "execution_count": 9,
   "id": "980e7f62",
   "metadata": {},
   "outputs": [
    {
     "name": "stdout",
     "output_type": "stream",
     "text": [
      "Array of integers from 30 to 70:\n",
      " [30 31 32 33 34 35 36 37 38 39 40 41 42 43 44 45 46 47 48 49 50 51 52 53\n",
      " 54 55 56 57 58 59 60 61 62 63 64 65 66 67 68 69 70]\n"
     ]
    }
   ],
   "source": [
    "array_integers = np.arange(30, 71)\n",
    "\n",
    "print(\"Array of integers from 30 to 70:\\n\", array_integers)\n"
   ]
  },
  {
   "cell_type": "markdown",
   "id": "f4d577e5",
   "metadata": {},
   "source": [
    "#### Write a NumPy program to create a 3x3 identity matrix"
   ]
  },
  {
   "cell_type": "code",
   "execution_count": 10,
   "id": "a0b58889",
   "metadata": {},
   "outputs": [
    {
     "name": "stdout",
     "output_type": "stream",
     "text": [
      "3x3 Identity Matrix:\n",
      "[[1. 0. 0.]\n",
      " [0. 1. 0.]\n",
      " [0. 0. 1.]]\n"
     ]
    }
   ],
   "source": [
    "identity_matrix = np.identity(3)\n",
    "\n",
    "print(\"3x3 Identity Matrix:\")\n",
    "print(identity_matrix)"
   ]
  },
  {
   "cell_type": "markdown",
   "id": "b4cdd061",
   "metadata": {},
   "source": [
    "#### Write a NumPy program to generate a random number between 0 and 1"
   ]
  },
  {
   "cell_type": "code",
   "execution_count": 11,
   "id": "18984f3d",
   "metadata": {},
   "outputs": [
    {
     "name": "stdout",
     "output_type": "stream",
     "text": [
      "Random number between 0 and 1: 0.39840722025543873\n"
     ]
    }
   ],
   "source": [
    "random_number = np.random.rand()\n",
    "\n",
    "print(\"Random number between 0 and 1:\", random_number)\n"
   ]
  },
  {
   "cell_type": "markdown",
   "id": "2a544f62",
   "metadata": {},
   "source": [
    "#### Write a NumPy program to generate an array of 15 random numbers from a standard normal distribution"
   ]
  },
  {
   "cell_type": "code",
   "execution_count": 12,
   "id": "762be077",
   "metadata": {},
   "outputs": [
    {
     "name": "stdout",
     "output_type": "stream",
     "text": [
      "Array of 15 random numbers from a standard normal distribution:\n",
      "[-0.78654413 -0.49932165 -0.13039162 -2.51504262 -0.06276649 -0.90445882\n",
      " -0.2416997  -0.5668499  -0.05063573 -1.40137288  0.63373793  0.27359795\n",
      "  0.32257825  0.03301795 -0.74051489]\n"
     ]
    }
   ],
   "source": [
    "random_numbers = np.random.randn(15)\n",
    "\n",
    "print(\"Array of 15 random numbers from a standard normal distribution:\")\n",
    "print(random_numbers)"
   ]
  },
  {
   "cell_type": "markdown",
   "id": "0d9967d3",
   "metadata": {},
   "source": [
    "#### Write a NumPy program to create a vector with values ranging from 15 to 55 and print all values except the first and last."
   ]
  },
  {
   "cell_type": "code",
   "execution_count": 13,
   "id": "e3005274",
   "metadata": {},
   "outputs": [
    {
     "name": "stdout",
     "output_type": "stream",
     "text": [
      "All values except the first and last:\n",
      "[16 17 18 19 20 21 22 23 24 25 26 27 28 29 30 31 32 33 34 35 36 37 38 39\n",
      " 40 41 42 43 44 45 46 47 48 49 50 51 52 53 54]\n"
     ]
    }
   ],
   "source": [
    "vector = np.arange(15, 56)\n",
    "print(\"All values except the first and last:\")\n",
    "print(vector[1:-1])"
   ]
  },
  {
   "cell_type": "markdown",
   "id": "ebb00f56",
   "metadata": {},
   "source": [
    "####  a NumPy program to create a vector of length 5 filled with arbitrary integers from 0 to 10 "
   ]
  },
  {
   "cell_type": "code",
   "execution_count": 14,
   "id": "0d7aa3a7",
   "metadata": {},
   "outputs": [
    {
     "name": "stdout",
     "output_type": "stream",
     "text": [
      "Vector of length 5 filled with arbitrary integers from 0 to 10:\n",
      "[ 5 10  8  8  9]\n"
     ]
    }
   ],
   "source": [
    "vec = np.random.randint(0, 11, size = 5)\n",
    "print(\"Vector of length 5 filled with arbitrary integers from 0 to 10:\")\n",
    "print(vec)"
   ]
  },
  {
   "cell_type": "markdown",
   "id": "11269199",
   "metadata": {},
   "source": [
    "### Write a NumPy program to create a 10x10 matrix, in which the elements on the borders will be equal to 1, and inside 0."
   ]
  },
  {
   "cell_type": "code",
   "execution_count": 15,
   "id": "0c2247b3",
   "metadata": {},
   "outputs": [
    {
     "name": "stdout",
     "output_type": "stream",
     "text": [
      "10x10 matrix with borders as 1 and inside as 0:\n",
      "[[1. 1. 1. 1. 1. 1. 1. 1. 1. 1.]\n",
      " [1. 0. 0. 0. 0. 0. 0. 0. 0. 1.]\n",
      " [1. 0. 0. 0. 0. 0. 0. 0. 0. 1.]\n",
      " [1. 0. 0. 0. 0. 0. 0. 0. 0. 1.]\n",
      " [1. 0. 0. 0. 0. 0. 0. 0. 0. 1.]\n",
      " [1. 0. 0. 0. 0. 0. 0. 0. 0. 1.]\n",
      " [1. 0. 0. 0. 0. 0. 0. 0. 0. 1.]\n",
      " [1. 0. 0. 0. 0. 0. 0. 0. 0. 1.]\n",
      " [1. 0. 0. 0. 0. 0. 0. 0. 0. 1.]\n",
      " [1. 1. 1. 1. 1. 1. 1. 1. 1. 1.]]\n"
     ]
    }
   ],
   "source": [
    "matrix = np.zeros((10, 10))\n",
    "matrix[0, :] = 1  \n",
    "matrix[-1, :] = 1  \n",
    "matrix[:, 0] = 1  \n",
    "matrix[:, -1] = 1  \n",
    "\n",
    "print(\"10x10 matrix with borders as 1 and inside as 0:\")\n",
    "print(matrix)"
   ]
  },
  {
   "cell_type": "markdown",
   "id": "0ced2b39",
   "metadata": {},
   "source": [
    "#### Write a NumPy program to create a 5x5 zero matrix with elements on the main diagonal equal to 1, 2,3, 4, 5"
   ]
  },
  {
   "cell_type": "code",
   "execution_count": 16,
   "id": "edee19b0",
   "metadata": {},
   "outputs": [
    {
     "name": "stdout",
     "output_type": "stream",
     "text": [
      "5x5 matrix with elements on the main diagonal equal to 1, 2, 3, 4, 5:\n",
      "[[1. 0. 0. 0. 0.]\n",
      " [0. 2. 0. 0. 0.]\n",
      " [0. 0. 3. 0. 0.]\n",
      " [0. 0. 0. 4. 0.]\n",
      " [0. 0. 0. 0. 5.]]\n"
     ]
    }
   ],
   "source": [
    "matrix = np.zeros((5, 5))\n",
    "\n",
    "np.fill_diagonal(matrix, [1, 2, 3, 4, 5])\n",
    "\n",
    "print(\"5x5 matrix with elements on the main diagonal equal to 1, 2, 3, 4, 5:\")\n",
    "print(matrix)"
   ]
  },
  {
   "cell_type": "markdown",
   "id": "daa30c95",
   "metadata": {},
   "source": [
    "#### Write a NumPy program to create a 4x4 matrix in which 0 and 1 are staggered, with zeros on the main diagonal."
   ]
  },
  {
   "cell_type": "code",
   "execution_count": 17,
   "id": "08ab86b6",
   "metadata": {},
   "outputs": [
    {
     "name": "stdout",
     "output_type": "stream",
     "text": [
      "4x4 matrix with 0 and 1 staggered and zeros on the main diagonal:\n",
      "[[0 1 0 1]\n",
      " [1 0 1 0]\n",
      " [0 1 0 1]\n",
      " [1 0 1 0]]\n"
     ]
    }
   ],
   "source": [
    "\n",
    "matrix = np.zeros((4, 4), dtype=int)\n",
    "\n",
    "matrix[::2, 1::2] = 1  # Rows with even indices and columns with odd indices\n",
    "matrix[1::2, ::2] = 1  # Rows with odd indices and columns with even indices\n",
    "\n",
    "print(\"4x4 matrix with 0 and 1 staggered and zeros on the main diagonal:\")\n",
    "print(matrix)\n"
   ]
  },
  {
   "cell_type": "markdown",
   "id": "85a24aa3",
   "metadata": {},
   "source": [
    "#### Write a NumPy program to save two given arrays into a single file in compressed format (.npz format) and load it."
   ]
  },
  {
   "cell_type": "code",
   "execution_count": 18,
   "id": "b3849aa0",
   "metadata": {},
   "outputs": [
    {
     "name": "stdout",
     "output_type": "stream",
     "text": [
      "Loaded array 1: [1 2 3 4 5]\n",
      "Loaded array 2: [ 6  7  8  9 10]\n"
     ]
    }
   ],
   "source": [
    "array1 = np.array([1, 2, 3, 4, 5])\n",
    "array2 = np.array([6, 7, 8, 9, 10])\n",
    "np.savez_compressed('arrays.npz', array1 = array1, array2 = array2)\n",
    "loaded_data = np.load('arrays.npz')\n",
    "loaded_array1 = loaded_data['array1']\n",
    "loaded_array2 = loaded_data['array2']\n",
    "print(\"Loaded array 1:\", loaded_array1)\n",
    "print(\"Loaded array 2:\", loaded_array2)"
   ]
  },
  {
   "cell_type": "markdown",
   "id": "9140c897",
   "metadata": {},
   "source": [
    "#### Write a NumPy program to create a one-dimensional array of forty pseudo-randomly generated values Select"
   ]
  },
  {
   "cell_type": "code",
   "execution_count": 19,
   "id": "88799fa6",
   "metadata": {},
   "outputs": [
    {
     "name": "stdout",
     "output_type": "stream",
     "text": [
      "One-dimensional array of forty pseudo-randomly generated values:\n",
      "[0.19678602 0.03493709 0.52487349 0.85189903 0.18441688 0.34400556\n",
      " 0.21902207 0.66313111 0.62297754 0.18739296 0.91763836 0.99354645\n",
      " 0.84735998 0.43154593 0.66479518 0.50583228 0.83947706 0.12771714\n",
      " 0.72632562 0.65651556 0.77084078 0.23132369 0.72407514 0.87611979\n",
      " 0.4543784  0.41346142 0.1822633  0.01036833 0.90147783 0.74926448\n",
      " 0.15467297 0.55430804 0.15222391 0.21722575 0.04294521 0.49057491\n",
      " 0.36418343 0.29855364 0.97970815 0.79528819]\n"
     ]
    }
   ],
   "source": [
    "random_values = np.random.rand(40)\n",
    "\n",
    "print(\"One-dimensional array of forty pseudo-randomly generated values:\")\n",
    "print(random_values)"
   ]
  },
  {
   "cell_type": "markdown",
   "id": "4dafa5de",
   "metadata": {},
   "source": [
    "#### Write a NumPy program to extract all numbers from a given array which are less and greater than a specified number."
   ]
  },
  {
   "cell_type": "code",
   "execution_count": 20,
   "id": "810bd279",
   "metadata": {},
   "outputs": [
    {
     "name": "stdout",
     "output_type": "stream",
     "text": [
      "Numbers less than 15 : [ 1  5 10]\n",
      "Numbers greater than 15 : [20 25 30]\n"
     ]
    }
   ],
   "source": [
    "def extract_numbers(arr, threshold):\n",
    "    less_than_threshold = arr[arr < threshold]\n",
    "    greater_than_threshold = arr[arr > threshold]\n",
    "    return less_than_threshold, greater_than_threshold\n",
    "\n",
    "\n",
    "array = np.array([1, 5, 10, 15, 20, 25, 30])\n",
    "threshold = 15\n",
    "\n",
    "\n",
    "less_than_threshold, greater_than_threshold = extract_numbers(array, threshold)\n",
    "\n",
    "print(\"Numbers less than\", threshold, \":\", less_than_threshold)\n",
    "print(\"Numbers greater than\", threshold, \":\", greater_than_threshold)"
   ]
  },
  {
   "cell_type": "code",
   "execution_count": null,
   "id": "ec6de475",
   "metadata": {},
   "outputs": [],
   "source": []
  }
 ],
 "metadata": {
  "kernelspec": {
   "display_name": "Python 3 (ipykernel)",
   "language": "python",
   "name": "python3"
  },
  "language_info": {
   "codemirror_mode": {
    "name": "ipython",
    "version": 3
   },
   "file_extension": ".py",
   "mimetype": "text/x-python",
   "name": "python",
   "nbconvert_exporter": "python",
   "pygments_lexer": "ipython3",
   "version": "3.11.5"
  }
 },
 "nbformat": 4,
 "nbformat_minor": 5
}
