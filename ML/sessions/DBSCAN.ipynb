{
 "cells": [
  {
   "cell_type": "code",
   "execution_count": null,
   "id": "8340f578",
   "metadata": {},
   "outputs": [],
   "source": [
    "import pandas as pd\n",
    "import numpy as np\n",
    "from plotnine import *\n",
    "import matplotlib.pyplot as plt\n",
    "from sklearn.preprocessing import StandardScaler\n",
    "from sklearn.cluster import DBSCAN"
   ]
  },
  {
   "cell_type": "code",
   "execution_count": null,
   "id": "73c73760",
   "metadata": {},
   "outputs": [],
   "source": [
    "data_points = pd.read_csv(\"https://raw.githubusercontent.com/cmparlettpelleriti/CPSC392ParlettPelleriti/master/Data/KMEM4.csv\")"
   ]
  },
  {
   "cell_type": "code",
   "execution_count": null,
   "id": "eb75c293",
   "metadata": {},
   "outputs": [],
   "source": [
    "std_scaler = StandardScaler()\n",
    "scaled_data = std_scaler.fit_transform(data_points[[\"x\",\"y\"]])\n",
    "data_points[[\"x\",\"y\"]] = scaled_data"
   ]
  },
  {
   "cell_type": "code",
   "execution_count": null,
   "id": "1ccc2d67",
   "metadata": {},
   "outputs": [],
   "source": [
    "plt.scatter(data_points['x'], data_points['y'])\n",
    "plt.show()"
   ]
  },
  {
   "cell_type": "code",
   "execution_count": null,
   "id": "782a392e",
   "metadata": {},
   "outputs": [],
   "source": [
    "db = DBSCAN(eps = 0.5, min_samples = 3).fit(data_points)"
   ]
  },
  {
   "cell_type": "code",
   "execution_count": null,
   "id": "b2fedea1",
   "metadata": {},
   "outputs": [],
   "source": [
    "plt.scatter(data_points['x'], data_points['y'], c= db.labels_)\n",
    "plt.show()"
   ]
  },
  {
   "cell_type": "code",
   "execution_count": null,
   "id": "18dcec91",
   "metadata": {},
   "outputs": [],
   "source": [
    "datapoints2 = pd.read_csv(\"https://raw.githubusercontent.com/cmparlettpelleriti/CPSC392ParlettPelleriti/master/Data/KMEM5.csv\")"
   ]
  },
  {
   "cell_type": "code",
   "execution_count": null,
   "id": "491222ba",
   "metadata": {},
   "outputs": [],
   "source": [
    "std_scaler = StandardScaler()\n",
    "scaled_data = std_scaler.fit_transform(datapoints2[[\"x\",\"y\"]])\n",
    "datapoints2[[\"x\",\"y\"]] = scaled_data"
   ]
  },
  {
   "cell_type": "code",
   "execution_count": null,
   "id": "40f3b7e1",
   "metadata": {},
   "outputs": [],
   "source": [
    "plt.scatter(datapoints2['x'], datapoints2['y'])\n",
    "plt.show()"
   ]
  },
  {
   "cell_type": "code",
   "execution_count": null,
   "id": "0fbf9f9d",
   "metadata": {},
   "outputs": [],
   "source": [
    "db2 = DBSCAN(eps = 0.5, min_samples = 3).fit(datapoints2)"
   ]
  },
  {
   "cell_type": "code",
   "execution_count": null,
   "id": "6e56cb20",
   "metadata": {},
   "outputs": [],
   "source": [
    "plt.scatter(datapoints2['x'], datapoints2['y'], c= db2.labels_)\n",
    "plt.show()"
   ]
  },
  {
   "cell_type": "code",
   "execution_count": null,
   "id": "b28b1bae",
   "metadata": {},
   "outputs": [],
   "source": [
    "\n",
    "db3 = DBSCAN(eps = 0.3, min_samples = 3).fit(datapoints2)"
   ]
  },
  {
   "cell_type": "code",
   "execution_count": null,
   "id": "93d99d88",
   "metadata": {},
   "outputs": [],
   "source": [
    "plt.scatter(datapoints2['x'], datapoints2['y'], c= db3.labels_)\n",
    "plt.show()"
   ]
  },
  {
   "cell_type": "code",
   "execution_count": null,
   "id": "037c7b03",
   "metadata": {},
   "outputs": [],
   "source": []
  }
 ],
 "metadata": {
  "kernelspec": {
   "display_name": "Python 3 (ipykernel)",
   "language": "python",
   "name": "python3"
  },
  "language_info": {
   "codemirror_mode": {
    "name": "ipython",
    "version": 3
   },
   "file_extension": ".py",
   "mimetype": "text/x-python",
   "name": "python",
   "nbconvert_exporter": "python",
   "pygments_lexer": "ipython3",
   "version": "3.11.5"
  }
 },
 "nbformat": 4,
 "nbformat_minor": 5
}
